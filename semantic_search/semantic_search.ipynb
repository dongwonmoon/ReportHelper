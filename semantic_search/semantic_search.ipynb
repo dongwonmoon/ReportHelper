{
 "cells": [
  {
   "cell_type": "code",
   "execution_count": 1,
   "metadata": {},
   "outputs": [
    {
     "name": "stderr",
     "output_type": "stream",
     "text": [
      "c:\\Users\\MoonDongWon\\OneDrive - gnu.ac.kr\\바탕 화면\\프로젝트\\과제 도우미\\report_helper\\lib\\site-packages\\tqdm\\auto.py:21: TqdmWarning: IProgress not found. Please update jupyter and ipywidgets. See https://ipywidgets.readthedocs.io/en/stable/user_install.html\n",
      "  from .autonotebook import tqdm as notebook_tqdm\n",
      "c:\\Users\\MoonDongWon\\OneDrive - gnu.ac.kr\\바탕 화면\\프로젝트\\과제 도우미\\report_helper\\lib\\site-packages\\transformers\\tokenization_utils_base.py:1601: FutureWarning: `clean_up_tokenization_spaces` was not set. It will be set to `True` by default. This behavior will be depracted in transformers v4.45, and will be then set to `False` by default. For more details check this issue: https://github.com/huggingface/transformers/issues/31884\n",
      "  warnings.warn(\n"
     ]
    }
   ],
   "source": [
    "from transformers import AutoTokenizer, AutoModel\n",
    "import torch\n",
    "import chromadb\n",
    "\n",
    "# Tokenizer 및 모델 로드\n",
    "tokenizer = AutoTokenizer.from_pretrained('jhgan/ko-sroberta-multitask')\n",
    "model = AutoModel.from_pretrained('jhgan/ko-sroberta-multitask')\n",
    "\n",
    "# 질의를 임베딩으로 변환하는 함수 (mean pooling 포함)\n",
    "def tokenize_and_pooling(model, tokenizer, text):\n",
    "    encoded_input = tokenizer(text, padding=True, truncation=True, return_tensors='pt')\n",
    "    with torch.no_grad():\n",
    "        model_output = model(**encoded_input)\n",
    "    attention_mask = encoded_input['attention_mask']\n",
    "    token_embeddings = model_output[0]\n",
    "    input_mask_expanded = attention_mask.unsqueeze(-1).expand(token_embeddings.size()).float()\n",
    "    return torch.sum(token_embeddings * input_mask_expanded, 1) / torch.clamp(input_mask_expanded.sum(1), min=1e-9)"
   ]
  },
  {
   "cell_type": "code",
   "execution_count": 2,
   "metadata": {},
   "outputs": [],
   "source": [
    "client = chromadb.PersistentClient('../../chroma')\n",
    "\n",
    "collection_name = \"paper_embeddings\"\n",
    "try:\n",
    "    paper_embeddings = client.get_collection(name=collection_name)\n",
    "except:\n",
    "    paper_embeddings = client.create_collection(name=collection_name)"
   ]
  },
  {
   "cell_type": "code",
   "execution_count": 3,
   "metadata": {},
   "outputs": [],
   "source": [
    "def search(query: str):\n",
    "    query_text = query\n",
    "    query_embedding = tokenize_and_pooling(model, tokenizer, query_text)\n",
    "    results = paper_embeddings.query(\n",
    "        query_embeddings=query_embedding.numpy().tolist(),\n",
    "        n_results=5\n",
    "    )\n",
    "    for result in results['metadatas'][0]:\n",
    "        print(result['title'], '\\n')"
   ]
  },
  {
   "cell_type": "code",
   "execution_count": 6,
   "metadata": {},
   "outputs": [
    {
     "name": "stdout",
     "output_type": "stream",
     "text": [
      "CNN-LSTM 조합모델을 이용한 영화리뷰 감성분석 \n",
      "\n",
      "집단지성을 이용한 한글 감성어 사전 구축 \n",
      "\n",
      "국내 주요 10대 기업에 대한 국민 감성 분석 \n",
      "\n",
      "영화 리뷰 감성분석을 위한 텍스트 마이닝 기반 감성 분류기 구축 \n",
      "\n",
      "감성 평가를 위한 감성의 의미 재정립과 어휘 체계에 관한 연구 \n",
      "\n"
     ]
    }
   ],
   "source": [
    "search('감성을 이해할 수 있을까?')"
   ]
  },
  {
   "cell_type": "code",
   "execution_count": null,
   "metadata": {},
   "outputs": [],
   "source": []
  },
  {
   "cell_type": "code",
   "execution_count": null,
   "metadata": {},
   "outputs": [],
   "source": []
  },
  {
   "cell_type": "code",
   "execution_count": null,
   "metadata": {},
   "outputs": [],
   "source": []
  },
  {
   "cell_type": "code",
   "execution_count": null,
   "metadata": {},
   "outputs": [],
   "source": []
  },
  {
   "cell_type": "code",
   "execution_count": null,
   "metadata": {},
   "outputs": [],
   "source": []
  },
  {
   "cell_type": "code",
   "execution_count": null,
   "metadata": {},
   "outputs": [],
   "source": []
  },
  {
   "cell_type": "code",
   "execution_count": null,
   "metadata": {},
   "outputs": [],
   "source": []
  }
 ],
 "metadata": {
  "kernelspec": {
   "display_name": "report_helper",
   "language": "python",
   "name": "python3"
  },
  "language_info": {
   "codemirror_mode": {
    "name": "ipython",
    "version": 3
   },
   "file_extension": ".py",
   "mimetype": "text/x-python",
   "name": "python",
   "nbconvert_exporter": "python",
   "pygments_lexer": "ipython3",
   "version": "3.10.11"
  }
 },
 "nbformat": 4,
 "nbformat_minor": 2
}
